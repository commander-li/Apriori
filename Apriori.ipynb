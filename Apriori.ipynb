{
 "cells": [
  {
   "cell_type": "code",
   "execution_count": 3,
   "metadata": {},
   "outputs": [
    {
     "name": "stdout",
     "output_type": "stream",
     "text": [
      "OK\n",
      "OK\n",
      "OK\n",
      "finished\n"
     ]
    }
   ],
   "source": [
    "# -*- coding: utf-8 -*-\n",
    "from efficient_apriori import apriori\n",
    "from lxml import etree\n",
    "import time\n",
    "from selenium import webdriver\n",
    "import csv\n",
    "driver = webdriver.Chrome()\n",
    "# 设置想要下载的导演 数据集\n",
    "director = u'张艺谋'\n",
    "# 写 CSV 文件\n",
    "file_name = './' + director + '.csv'\n",
    "base_url = 'https://movie.douban.com/subject_search?search_text='+director+'&cat=1002&start='\n",
    "out = open(file_name,'w', newline='', encoding='utf-8-sig')\n",
    "csv_write = csv.writer(out, dialect='excel')\n",
    "# 下载指定页面的数据\n",
    "def download(request_url):\n",
    "     driver.get(request_url)\n",
    "     time.sleep(1)\n",
    "     html = driver.find_element_by_xpath(\"//*\").get_attribute(\"outerHTML\")\n",
    "     html = etree.HTML(html)\n",
    "     # 设置电影名称，导演演员 的 XPATH\n",
    "     movie_lists = html.xpath(\"/html/body/div[@id='wrapper']/div[@id='root']/div[1]//div[@class='item-root']/div[@class='detail']/div[@class='title']/a[@class='title-text']\")\n",
    "     name_lists = html.xpath(\"/html/body/div[@id='wrapper']/div[@id='root']/div[1]//div[@class='item-root']/div[@class='detail']/div[@class='meta abstract_2']\")\n",
    "     # 获取返回的数据个数\n",
    "     num = len(movie_lists)\n",
    "     if num > 15: # 第一页会有 16 条数据\n",
    "           # 默认第一个不是，所以需要去掉\n",
    "           movie_lists = movie_lists[1:]\n",
    "           name_lists = name_lists[1:]\n",
    "     for (movie, name_list) in zip(movie_lists, name_lists):\n",
    "           # 会存在数据为空的情况\n",
    "           if name_list.text is None: \n",
    "                continue\n",
    "           # 显示下演员名称\n",
    "#            print(name_list.text)\n",
    "           names = name_list.text.split('/')\n",
    "           # 判断导演是否为指定的 director\n",
    "           if names[0].strip() == director:\n",
    "                # 将第一个字段设置为电影名称\n",
    "                names[0] = movie.text\n",
    "                csv_write.writerow(names)\n",
    "     print('OK') # 代表这页数据下载成功\n",
    "     if num >= 15:\n",
    "           # 继续下一页\n",
    "           return True\n",
    "     else:\n",
    "           # 没有下一页\n",
    "           return False\n",
    " \n",
    "# 开始的 ID 为 0，每页增加 15\n",
    "start = 0\n",
    "while start<10000: # 最多抽取 1 万部电影\n",
    "     request_url = base_url + str(start)\n",
    "     # 下载数据，并返回是否有下一页\n",
    "     flag = download(request_url)\n",
    "     if flag:\n",
    "           start = start + 15\n",
    "     else:\n",
    "           break\n",
    "out.close()\n",
    "print('finished')\n"
   ]
  },
  {
   "cell_type": "code",
   "execution_count": 5,
   "metadata": {},
   "outputs": [
    {
     "name": "stdout",
     "output_type": "stream",
     "text": [
      "{1: {('倪大红',): 3, ('孙红雷',): 3, ('巩俐',): 9, ('李保田',): 3, ('李雪健',): 4, ('章子怡',): 3, ('葛优',): 3}}\n",
      "[]\n"
     ]
    }
   ],
   "source": [
    "# -*- coding: utf-8 -*-\n",
    "from efficient_apriori import apriori\n",
    "import csv\n",
    "director = u'张艺谋'\n",
    "file_name = './'+director+'.csv'\n",
    "lists = csv.reader(open(file_name, 'r', encoding='utf-8-sig'))\n",
    "# 数据加载\n",
    "data = []\n",
    "for names in lists:\n",
    "     name_new = []\n",
    "     for name in names:\n",
    "           # 去掉演员数据中的空格\n",
    "           name_new.append(name.strip())\n",
    "     data.append(name_new[1:])\n",
    "# 挖掘频繁项集和关联规则\n",
    "itemsets, rules = apriori(data, min_support=0.1,  min_confidence=1)\n",
    "print(itemsets)\n",
    "print(rules)"
   ]
  }
 ],
 "metadata": {
  "kernelspec": {
   "display_name": "Python 3",
   "language": "python",
   "name": "python3"
  },
  "language_info": {
   "codemirror_mode": {
    "name": "ipython",
    "version": 3
   },
   "file_extension": ".py",
   "mimetype": "text/x-python",
   "name": "python",
   "nbconvert_exporter": "python",
   "pygments_lexer": "ipython3",
   "version": "3.7.1"
  }
 },
 "nbformat": 4,
 "nbformat_minor": 2
}
